{
  "nbformat": 4,
  "nbformat_minor": 0,
  "metadata": {
    "colab": {
      "name": "Untitled2.ipynb",
      "provenance": [],
      "collapsed_sections": []
    },
    "kernelspec": {
      "name": "python3",
      "display_name": "Python 3"
    },
    "language_info": {
      "name": "python"
    }
  },
  "cells": [
    {
      "cell_type": "code",
      "metadata": {
        "colab": {
          "base_uri": "https://localhost:8080/"
        },
        "id": "iv3nMtcbeU8F",
        "outputId": "f4152848-9efe-4604-febb-a8855c90dbc8"
      },
      "source": [
        "pip install lightfm"
      ],
      "execution_count": 1,
      "outputs": [
        {
          "output_type": "stream",
          "text": [
            "Collecting lightfm\n",
            "\u001b[?25l  Downloading https://files.pythonhosted.org/packages/5e/fe/8864d723daa8e5afc74080ce510c30f7ad52facf6a157d4b42dec83dfab4/lightfm-1.16.tar.gz (310kB)\n",
            "\r\u001b[K     |█                               | 10kB 11.0MB/s eta 0:00:01\r\u001b[K     |██▏                             | 20kB 15.8MB/s eta 0:00:01\r\u001b[K     |███▏                            | 30kB 19.3MB/s eta 0:00:01\r\u001b[K     |████▎                           | 40kB 22.5MB/s eta 0:00:01\r\u001b[K     |█████▎                          | 51kB 15.8MB/s eta 0:00:01\r\u001b[K     |██████▍                         | 61kB 17.4MB/s eta 0:00:01\r\u001b[K     |███████▍                        | 71kB 12.2MB/s eta 0:00:01\r\u001b[K     |████████▌                       | 81kB 12.8MB/s eta 0:00:01\r\u001b[K     |█████████▌                      | 92kB 11.8MB/s eta 0:00:01\r\u001b[K     |██████████▋                     | 102kB 12.7MB/s eta 0:00:01\r\u001b[K     |███████████▋                    | 112kB 12.7MB/s eta 0:00:01\r\u001b[K     |████████████▊                   | 122kB 12.7MB/s eta 0:00:01\r\u001b[K     |█████████████▊                  | 133kB 12.7MB/s eta 0:00:01\r\u001b[K     |██████████████▉                 | 143kB 12.7MB/s eta 0:00:01\r\u001b[K     |███████████████▉                | 153kB 12.7MB/s eta 0:00:01\r\u001b[K     |█████████████████               | 163kB 12.7MB/s eta 0:00:01\r\u001b[K     |██████████████████              | 174kB 12.7MB/s eta 0:00:01\r\u001b[K     |███████████████████             | 184kB 12.7MB/s eta 0:00:01\r\u001b[K     |████████████████████            | 194kB 12.7MB/s eta 0:00:01\r\u001b[K     |█████████████████████▏          | 204kB 12.7MB/s eta 0:00:01\r\u001b[K     |██████████████████████▏         | 215kB 12.7MB/s eta 0:00:01\r\u001b[K     |███████████████████████▎        | 225kB 12.7MB/s eta 0:00:01\r\u001b[K     |████████████████████████▎       | 235kB 12.7MB/s eta 0:00:01\r\u001b[K     |█████████████████████████▍      | 245kB 12.7MB/s eta 0:00:01\r\u001b[K     |██████████████████████████▍     | 256kB 12.7MB/s eta 0:00:01\r\u001b[K     |███████████████████████████▌    | 266kB 12.7MB/s eta 0:00:01\r\u001b[K     |████████████████████████████▌   | 276kB 12.7MB/s eta 0:00:01\r\u001b[K     |█████████████████████████████▋  | 286kB 12.7MB/s eta 0:00:01\r\u001b[K     |██████████████████████████████▋ | 296kB 12.7MB/s eta 0:00:01\r\u001b[K     |███████████████████████████████▊| 307kB 12.7MB/s eta 0:00:01\r\u001b[K     |████████████████████████████████| 317kB 12.7MB/s \n",
            "\u001b[?25hRequirement already satisfied: numpy in /usr/local/lib/python3.7/dist-packages (from lightfm) (1.19.5)\n",
            "Requirement already satisfied: scipy>=0.17.0 in /usr/local/lib/python3.7/dist-packages (from lightfm) (1.4.1)\n",
            "Requirement already satisfied: requests in /usr/local/lib/python3.7/dist-packages (from lightfm) (2.23.0)\n",
            "Requirement already satisfied: scikit-learn in /usr/local/lib/python3.7/dist-packages (from lightfm) (0.22.2.post1)\n",
            "Requirement already satisfied: certifi>=2017.4.17 in /usr/local/lib/python3.7/dist-packages (from requests->lightfm) (2020.12.5)\n",
            "Requirement already satisfied: idna<3,>=2.5 in /usr/local/lib/python3.7/dist-packages (from requests->lightfm) (2.10)\n",
            "Requirement already satisfied: chardet<4,>=3.0.2 in /usr/local/lib/python3.7/dist-packages (from requests->lightfm) (3.0.4)\n",
            "Requirement already satisfied: urllib3!=1.25.0,!=1.25.1,<1.26,>=1.21.1 in /usr/local/lib/python3.7/dist-packages (from requests->lightfm) (1.24.3)\n",
            "Requirement already satisfied: joblib>=0.11 in /usr/local/lib/python3.7/dist-packages (from scikit-learn->lightfm) (1.0.1)\n",
            "Building wheels for collected packages: lightfm\n",
            "  Building wheel for lightfm (setup.py) ... \u001b[?25l\u001b[?25hdone\n",
            "  Created wheel for lightfm: filename=lightfm-1.16-cp37-cp37m-linux_x86_64.whl size=706112 sha256=101d0d895e6fbee6bb081296e975155e20072c506b9b79fd7daf4c8c7924a37e\n",
            "  Stored in directory: /root/.cache/pip/wheels/c6/64/d4/673c7277f71ac4c5ad4835b94708c01b653ef2d3aa78ef20aa\n",
            "Successfully built lightfm\n",
            "Installing collected packages: lightfm\n",
            "Successfully installed lightfm-1.16\n"
          ],
          "name": "stdout"
        }
      ]
    },
    {
      "cell_type": "code",
      "metadata": {
        "id": "G9d_2H5pG1zD"
      },
      "source": [
        ""
      ],
      "execution_count": null,
      "outputs": []
    },
    {
      "cell_type": "markdown",
      "metadata": {
        "id": "liq2-WY9G20T"
      },
      "source": [
        "LightFm -- гибридная система, которая использует, имеющуюся информацию, о выборе пользователей. Также во время обучения она использует дополнительную информацию о пользователей, объектов (например: возраст, гендарная идентичность и т.д.) "
      ]
    },
    {
      "cell_type": "code",
      "metadata": {
        "id": "fyZBGJyqfKta"
      },
      "source": [
        "from lightfm.data import Dataset\n",
        "\n",
        "#Create dataset\n",
        "data = dataset()\n",
        "\n",
        "#Еам нужен список пользователей, объектов, список функций для пользователей(необязательно), список функций для объектов(необязательно)\n",
        "data.fit(USER, ITEAMS, User_Features, Items_Features)\n",
        "#спосостовлениея кто пользлватели, объекты\n",
        "#Второй вызов fit сбросит существующие сопоставления\n",
        "#USER -- список пользователей\n",
        "#ITEAMS -- список объектов\n",
        "#User_Features/Items_Features -- список допольнительной информации, лучше в формате \"name: value\". Список должен содержать все возможные комбинации\n",
        "\n",
        "\n",
        "data.fit_partial(USER, TEAMS, User_Features, Items_Features)\n",
        "#спосостовлениея кто пользлватели, объекты\n",
        "#Второй вызов fit_partial добавляет к  существующие сопоставления"
      ],
      "execution_count": null,
      "outputs": []
    },
    {
      "cell_type": "code",
      "metadata": {
        "id": "hoPabi8AJ8ox"
      },
      "source": [
        "interactions, weights = dataset.build_interactions()\n",
        "#Возвращает две разряженные таблицы. Первая A: a[i][j] = \"Взаимодействовал объект j с пользователем i\", B[i][j] -- вес взаимодействия\n",
        "\n",
        "user_features = dataset.build_user_features(data, normalize=True)\n",
        "#Normalize=True, если мы можем утверждать, что в строке сумма равна 1, иначе False\n",
        "#data -- список вида (user_id:['feuture_name_1: value', ....])\n",
        "#Возвращается разряжаная таблица, у которой номер строки это номер функции, номер столбца -- номер функции. НО для этой функции принадлежность к усеру тоже функция, то есть \n",
        "#mat[user_id][user_id] = 1, mat[user_id][< user_id] = 0, не принадлежность функции -- тоже функция\n",
        "#то есть пусть пользователей -- 2, доп.информации - 2, тогда стобцов будет -- 2(user_id) + 2(feuture) + 2(not_feuture) = 6"
      ],
      "execution_count": null,
      "outputs": []
    },
    {
      "cell_type": "code",
      "metadata": {
        "id": "y6WnnyWARdk2"
      },
      "source": [
        "#создаем модуль LightFm\n",
        "#у нее очень много параметров\n",
        "#loss -- функция потерь:logistic, BPR, WARP, k-OS WARP\n",
        "#learning_schedule -- adadelta, adagrad(см. гугл)\n",
        "#learning_rate -- нужен если выбрали adagrad\n",
        "#rho -- нужен если выбрали adadelta\n",
        "#epsilon -- нужен если выбрали adadelta\n",
        "model = LightFM(loss='warp')\n",
        "model.fit(interactions,\n",
        "      user_features= user_features,\n",
        "      sample_weight= weights,\n",
        "      epochs=10)\n",
        "#дополнительно\n",
        "#num_threads -- кол-во ядер\n",
        "#verbose -- выодить ли в процессса информацию\n",
        "#epochs -- кол-во эпох"
      ],
      "execution_count": null,
      "outputs": []
    },
    {
      "cell_type": "code",
      "metadata": {
        "id": "xaF0VgJdapEI"
      },
      "source": [
        "model.predict( user_ids , item_ids , item_features = None , user_features = None , num_threads = 1)\n",
        "#num_threads -- кол-во ядер\n",
        "#Вычисляет оценку рекомендации для пар пользователь-элемент\n",
        "#Возвращает массив Numpy, содержащий оценки рекомендаций для пар, определенных входными данными.\n",
        "\n",
        "#Для нового пользователя формируем разряженный массив вида new_user_features = ['feature_name: value', ....]\n",
        "n_users, n_items = interactions.shape\n",
        "model.predict(0, np.arange(n_items), user_features=new_user_features)"
      ],
      "execution_count": null,
      "outputs": []
    }
  ]
}